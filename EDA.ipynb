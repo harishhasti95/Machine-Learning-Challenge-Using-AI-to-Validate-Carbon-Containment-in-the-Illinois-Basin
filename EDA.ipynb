{
 "cells": [
  {
   "cell_type": "code",
   "execution_count": 1,
   "id": "af5ede7f",
   "metadata": {},
   "outputs": [],
   "source": [
    "import pandas as pd\n",
    "import numpy as np\n",
    "import matplotlib.pyplot as plt\n",
    "import seaborn as sns"
   ]
  },
  {
   "cell_type": "code",
   "execution_count": 2,
   "id": "6dbffeab",
   "metadata": {},
   "outputs": [],
   "source": [
    "df_train = pd.read_csv('illinois_basing_train.csv')\n",
    "df_train.drop('Avg_PLT_CO2InjRate_TPH', axis=1, inplace = True)\n",
    "df_test = pd.read_csv('illinois_basing_test.csv')\n",
    "\n",
    "df_train[df_train.columns[-1]].fillna(0, inplace = True)\n",
    "y = df_train[df_train.columns[-1]]\n",
    "df_train.drop(df_train.columns[-1], axis=1, inplace = True)\n",
    "\n",
    "df_train['Month'] = pd.to_datetime(df_train['SampleTimeUTC']).dt.month\n",
    "df_train['Day'] = pd.to_datetime(df_train['SampleTimeUTC']).dt.day\n",
    "df_train['Hour'] = pd.to_datetime(df_train['SampleTimeUTC']).dt.hour\n",
    "df_train['Year'] = pd.DatetimeIndex(df_train['SampleTimeUTC']).year\n",
    "df_train.drop('SampleTimeUTC', axis=1, inplace = True)\n",
    "\n",
    "\n",
    "df_test['Month'] = pd.to_datetime(df_test['SampleTimeUTC']).dt.month\n",
    "df_test['Day'] = pd.to_datetime(df_test['SampleTimeUTC']).dt.day\n",
    "df_test['Hour'] = pd.to_datetime(df_test['SampleTimeUTC']).dt.hour\n",
    "df_test['Year'] = pd.DatetimeIndex(df_test['SampleTimeUTC']).year\n",
    "df_test.drop('SampleTimeUTC', axis=1, inplace = True)\n",
    "\n",
    "cols = [i for i in df_train.columns if df_train[i].isnull().any()]\n",
    "for i in cols:\n",
    "    df_train[i].fillna(df_train[i].mean(), inplace=True)\n",
    "\n",
    "cols = [i for i in df_test.columns if df_test[i].isnull().any()]\n",
    "for i in cols:\n",
    "    df_test[i].fillna(df_test[i].mean(), inplace=True)"
   ]
  },
  {
   "cell_type": "code",
   "execution_count": 3,
   "id": "624760e4",
   "metadata": {},
   "outputs": [
    {
     "name": "stdout",
     "output_type": "stream",
     "text": [
      "The Data types of columns - train Avg_PLT_CO2VentRate_TPH     float64\n",
      "Avg_CCS1_WHCO2InjPs_psi     float64\n",
      "Avg_CCS1_WHCO2InjTp_F       float64\n",
      "Avg_CCS1_ANPs_psi           float64\n",
      "Avg_CCS1_DH6325Ps_psi       float64\n",
      "Avg_CCS1_DH6325Tp_F         float64\n",
      "Avg_VW1_WBTbgPs_psi         float64\n",
      "Avg_VW1_WBTbgTp_F           float64\n",
      "Avg_VW1_ANPs_psi            float64\n",
      "Avg_VW1_Z11D4917Ps_psi      float64\n",
      "Avg_VW1_Z11D4917Tp_F        float64\n",
      "Avg_VW1_Z10D5001Ps_psi      float64\n",
      "Avg_VW1_Z10D5001Tp_F        float64\n",
      "Avg_VW1_Z09D5653Ps_psi      float64\n",
      "Avg_VW1_Z09D5653Tp_F        float64\n",
      "Avg_VW1_Z08D5840Ps_psi      float64\n",
      "Avg_VW1_Z08D5840Tp_F        float64\n",
      "Avg_VW1_Z07D6416Ps_psi      float64\n",
      "Avg_VW1_Z07D6416Tp_F        float64\n",
      "Avg_VW1_Z06D6632Ps_psi      float64\n",
      "Avg_VW1_Z06D6632Tp_F        float64\n",
      "Avg_VW1_Z05D6720Ps_psi      float64\n",
      "Avg_VW1_Z05D6720Tp_F        float64\n",
      "Avg_VW1_Z04D6837Ps_psi      float64\n",
      "Avg_VW1_Z04D6837Tp_F        float64\n",
      "Avg_VW1_Z03D6945Ps_psi      float64\n",
      "Avg_VW1_Z03D6945Tp_F        float64\n",
      "Avg_VW1_Z02D6982Ps_psi      float64\n",
      "Avg_VW1_Z02D6982Tp_F        float64\n",
      "Avg_VW1_Z01D7061Ps_psi      float64\n",
      "Avg_VW1_Z01D7061Tp_F        float64\n",
      "Avg_VW1_Z0910D5482Ps_psi    float64\n",
      "Avg_VW1_Z0910D5482Tp_F      float64\n",
      "Month                         int64\n",
      "Day                           int64\n",
      "Hour                          int64\n",
      "Year                          int64\n",
      "dtype: object\n",
      "**************************************************\n",
      "The Data types of columns - test Avg_PLT_CO2VentRate_TPH     float64\n",
      "Avg_CCS1_WHCO2InjPs_psi     float64\n",
      "Avg_CCS1_WHCO2InjTp_F       float64\n",
      "Avg_CCS1_ANPs_psi           float64\n",
      "Avg_CCS1_DH6325Ps_psi       float64\n",
      "Avg_CCS1_DH6325Tp_F         float64\n",
      "Avg_VW1_WBTbgPs_psi         float64\n",
      "Avg_VW1_WBTbgTp_F           float64\n",
      "Avg_VW1_ANPs_psi            float64\n",
      "Avg_VW1_Z11D4917Ps_psi      float64\n",
      "Avg_VW1_Z11D4917Tp_F        float64\n",
      "Avg_VW1_Z10D5001Ps_psi      float64\n",
      "Avg_VW1_Z10D5001Tp_F        float64\n",
      "Avg_VW1_Z09D5653Ps_psi      float64\n",
      "Avg_VW1_Z09D5653Tp_F        float64\n",
      "Avg_VW1_Z08D5840Ps_psi      float64\n",
      "Avg_VW1_Z08D5840Tp_F        float64\n",
      "Avg_VW1_Z07D6416Ps_psi      float64\n",
      "Avg_VW1_Z07D6416Tp_F        float64\n",
      "Avg_VW1_Z06D6632Ps_psi      float64\n",
      "Avg_VW1_Z06D6632Tp_F        float64\n",
      "Avg_VW1_Z05D6720Ps_psi      float64\n",
      "Avg_VW1_Z05D6720Tp_F        float64\n",
      "Avg_VW1_Z04D6837Ps_psi      float64\n",
      "Avg_VW1_Z04D6837Tp_F        float64\n",
      "Avg_VW1_Z03D6945Ps_psi      float64\n",
      "Avg_VW1_Z03D6945Tp_F        float64\n",
      "Avg_VW1_Z02D6982Ps_psi      float64\n",
      "Avg_VW1_Z02D6982Tp_F        float64\n",
      "Avg_VW1_Z01D7061Ps_psi      float64\n",
      "Avg_VW1_Z01D7061Tp_F        float64\n",
      "Avg_VW1_Z0910D5482Ps_psi    float64\n",
      "Avg_VW1_Z0910D5482Tp_F      float64\n",
      "Month                         int64\n",
      "Day                           int64\n",
      "Hour                          int64\n",
      "Year                          int64\n",
      "dtype: object\n"
     ]
    }
   ],
   "source": [
    "print('The Data types of columns - train', df_train.dtypes)\n",
    "print('*'*50)\n",
    "print('The Data types of columns - test', df_test.dtypes)"
   ]
  },
  {
   "cell_type": "code",
   "execution_count": 4,
   "id": "cf2d26a2",
   "metadata": {},
   "outputs": [
    {
     "data": {
      "text/plain": [
       "2011    8744\n",
       "2010    8731\n",
       "2012    7715\n",
       "2009    2208\n",
       "Name: Year, dtype: int64"
      ]
     },
     "execution_count": 4,
     "metadata": {},
     "output_type": "execute_result"
    }
   ],
   "source": [
    "# check for value counts of the year from timestamp - training data\n",
    "df_train['Year'].value_counts()"
   ]
  },
  {
   "cell_type": "code",
   "execution_count": 5,
   "id": "bc20a0e7",
   "metadata": {},
   "outputs": [
    {
     "data": {
      "text/plain": [
       "2012    201\n",
       "Name: Year, dtype: int64"
      ]
     },
     "execution_count": 5,
     "metadata": {},
     "output_type": "execute_result"
    }
   ],
   "source": [
    "# check for value counts of the year from timestamp - testing data\n",
    "df_test['Year'].value_counts()"
   ]
  },
  {
   "cell_type": "code",
   "execution_count": 6,
   "id": "e587b1bb",
   "metadata": {},
   "outputs": [
    {
     "data": {
      "text/plain": [
       "10    2736\n",
       "11    2336\n",
       "8     2280\n",
       "3     2277\n",
       "5     2277\n",
       "1     2272\n",
       "12    2264\n",
       "7     2259\n",
       "6     2207\n",
       "9     2202\n",
       "4     2200\n",
       "2     2088\n",
       "Name: Month, dtype: int64"
      ]
     },
     "execution_count": 6,
     "metadata": {},
     "output_type": "execute_result"
    }
   ],
   "source": [
    "# check for value counts of the month from timestamp - training data\n",
    "df_train['Month'].value_counts()"
   ]
  },
  {
   "cell_type": "code",
   "execution_count": 7,
   "id": "5006f9df",
   "metadata": {},
   "outputs": [
    {
     "data": {
      "text/plain": [
       "11    201\n",
       "Name: Month, dtype: int64"
      ]
     },
     "execution_count": 7,
     "metadata": {},
     "output_type": "execute_result"
    }
   ],
   "source": [
    "# check for value counts of the month from timestamp - testing data\n",
    "df_test['Month'].value_counts()"
   ]
  },
  {
   "cell_type": "code",
   "execution_count": 8,
   "id": "17967a0c",
   "metadata": {},
   "outputs": [
    {
     "data": {
      "text/plain": [
       "10    1152\n",
       "11    1152\n",
       "15     912\n",
       "14     909\n",
       "13     904\n",
       "17     900\n",
       "16     899\n",
       "18     896\n",
       "24     888\n",
       "28     888\n",
       "27     888\n",
       "21     888\n",
       "20     888\n",
       "19     888\n",
       "22     888\n",
       "25     886\n",
       "26     885\n",
       "23     880\n",
       "2      864\n",
       "8      864\n",
       "7      864\n",
       "6      864\n",
       "3      864\n",
       "12     864\n",
       "1      864\n",
       "9      864\n",
       "5      863\n",
       "4      852\n",
       "29     840\n",
       "30     816\n",
       "31     524\n",
       "Name: Day, dtype: int64"
      ]
     },
     "execution_count": 8,
     "metadata": {},
     "output_type": "execute_result"
    }
   ],
   "source": [
    "# check for value counts of the day from timestamp - training data\n",
    "df_train['Day'].value_counts()"
   ]
  },
  {
   "cell_type": "code",
   "execution_count": 9,
   "id": "d637820b",
   "metadata": {},
   "outputs": [
    {
     "data": {
      "text/plain": [
       "19    24\n",
       "20    24\n",
       "21    24\n",
       "22    24\n",
       "23    24\n",
       "24    24\n",
       "25    24\n",
       "26    17\n",
       "18    16\n",
       "Name: Day, dtype: int64"
      ]
     },
     "execution_count": 9,
     "metadata": {},
     "output_type": "execute_result"
    }
   ],
   "source": [
    "# check for value counts of the day from timestamp - testing data\n",
    "df_test['Day'].value_counts()"
   ]
  },
  {
   "cell_type": "code",
   "execution_count": 10,
   "id": "af29e427",
   "metadata": {},
   "outputs": [
    {
     "data": {
      "text/plain": [
       "12    1143\n",
       "14    1143\n",
       "4     1143\n",
       "5     1143\n",
       "13    1143\n",
       "9     1142\n",
       "20    1142\n",
       "10    1142\n",
       "11    1142\n",
       "7     1142\n",
       "6     1142\n",
       "3     1142\n",
       "8     1141\n",
       "1     1141\n",
       "15    1141\n",
       "16    1141\n",
       "17    1141\n",
       "18    1141\n",
       "19    1141\n",
       "2     1141\n",
       "21    1141\n",
       "22    1140\n",
       "0     1140\n",
       "23    1140\n",
       "Name: Hour, dtype: int64"
      ]
     },
     "execution_count": 10,
     "metadata": {},
     "output_type": "execute_result"
    }
   ],
   "source": [
    "# check for value counts of the hour from timestamp - training data\n",
    "df_train['Hour'].value_counts()"
   ]
  },
  {
   "cell_type": "code",
   "execution_count": 11,
   "id": "3c09d2b0",
   "metadata": {},
   "outputs": [
    {
     "data": {
      "text/plain": [
       "8     9\n",
       "10    9\n",
       "11    9\n",
       "12    9\n",
       "13    9\n",
       "14    9\n",
       "15    9\n",
       "16    9\n",
       "9     9\n",
       "0     8\n",
       "6     8\n",
       "5     8\n",
       "4     8\n",
       "3     8\n",
       "2     8\n",
       "1     8\n",
       "20    8\n",
       "23    8\n",
       "22    8\n",
       "21    8\n",
       "19    8\n",
       "18    8\n",
       "17    8\n",
       "7     8\n",
       "Name: Hour, dtype: int64"
      ]
     },
     "execution_count": 11,
     "metadata": {},
     "output_type": "execute_result"
    }
   ],
   "source": [
    "# check for value counts of the hour from timestamp - testing data\n",
    "df_test['Hour'].value_counts()"
   ]
  },
  {
   "cell_type": "code",
   "execution_count": null,
   "id": "2600869f",
   "metadata": {},
   "outputs": [],
   "source": []
  }
 ],
 "metadata": {
  "kernelspec": {
   "display_name": "Python 3 (ipykernel)",
   "language": "python",
   "name": "python3"
  },
  "language_info": {
   "codemirror_mode": {
    "name": "ipython",
    "version": 3
   },
   "file_extension": ".py",
   "mimetype": "text/x-python",
   "name": "python",
   "nbconvert_exporter": "python",
   "pygments_lexer": "ipython3",
   "version": "3.7.13"
  }
 },
 "nbformat": 4,
 "nbformat_minor": 5
}

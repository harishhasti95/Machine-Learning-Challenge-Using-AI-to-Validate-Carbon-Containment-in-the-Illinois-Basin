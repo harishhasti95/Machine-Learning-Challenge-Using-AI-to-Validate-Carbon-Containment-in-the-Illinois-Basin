{
 "cells": [
  {
   "cell_type": "code",
   "execution_count": 1,
   "id": "6d106949",
   "metadata": {},
   "outputs": [],
   "source": [
    "import pandas as pd\n",
    "import numpy as np\n",
    "import os, pickle\n",
    "np.random.seed(42)\n",
    "import matplotlib.pyplot as plt\n",
    "import seaborn as sns\n",
    "from sklearn import preprocessing\n",
    "from sklearn import datasets, ensemble\n",
    "from sklearn.inspection import permutation_importance\n",
    "from sklearn.metrics import mean_squared_error\n",
    "from sklearn.model_selection import train_test_split\n",
    "from sklearn.preprocessing import MinMaxScaler    "
   ]
  },
  {
   "cell_type": "code",
   "execution_count": 2,
   "id": "23d9c00f",
   "metadata": {},
   "outputs": [
    {
     "name": "stdout",
     "output_type": "stream",
     "text": [
      "9.981433488063146\n"
     ]
    }
   ],
   "source": [
    "filename = 'finalized_model.pkl'\n",
    "\n",
    "df_train = pd.read_csv('illinois_basing_train.csv')\n",
    "df_train.drop('Avg_PLT_CO2InjRate_TPH', axis=1, inplace = True)\n",
    "df_test = pd.read_csv('illinois_basing_test.csv')\n",
    "\n",
    "df_train[df_train.columns[-1]].fillna(0, inplace = True)\n",
    "y = df_train[df_train.columns[-1]]\n",
    "df_train.drop(df_train.columns[-1], axis=1, inplace = True)\n",
    "\n",
    "df_train['Month'] = pd.to_datetime(df_train['SampleTimeUTC']).dt.month\n",
    "df_train['Day'] = pd.to_datetime(df_train['SampleTimeUTC']).dt.day\n",
    "df_train['Hour'] = pd.to_datetime(df_train['SampleTimeUTC']).dt.hour\n",
    "df_train['Year'] = pd.DatetimeIndex(df_train['SampleTimeUTC']).year\n",
    "df_train.drop('SampleTimeUTC', axis=1, inplace = True)\n",
    "\n",
    "\n",
    "df_test['Month'] = pd.to_datetime(df_test['SampleTimeUTC']).dt.month\n",
    "df_test['Day'] = pd.to_datetime(df_test['SampleTimeUTC']).dt.day\n",
    "df_test['Hour'] = pd.to_datetime(df_test['SampleTimeUTC']).dt.hour\n",
    "df_test['Year'] = pd.DatetimeIndex(df_test['SampleTimeUTC']).year\n",
    "df_test.drop('SampleTimeUTC', axis=1, inplace = True)\n",
    "\n",
    "cols = [i for i in df_train.columns if df_train[i].isnull().any()]\n",
    "for i in cols:\n",
    "    df_train[i].fillna(df_train[i].mean(), inplace=True)\n",
    "\n",
    "cols = [i for i in df_test.columns if df_test[i].isnull().any()]\n",
    "for i in cols:\n",
    "    df_test[i].fillna(df_test[i].mean(), inplace=True)\n",
    "\n",
    "X_train, X_val, y_train, y_val = train_test_split(\n",
    "    df_train, y, test_size=0.1, random_state=13\n",
    ")\n",
    "\n",
    "    \n",
    "\n",
    "if not os.path.exists('finalized_model.pkl'): \n",
    "    # The best now - fifth\n",
    "    params = {\n",
    "        \"n_estimators\": 505,\n",
    "        \"max_depth\": 5,\n",
    "        \"min_samples_split\": 4,\n",
    "        \"learning_rate\": 0.072,\n",
    "        \"loss\": \"squared_error\",\n",
    "    }\n",
    "    reg = ensemble.GradientBoostingRegressor(**params)\n",
    "    reg.fit(X_train, y_train)\n",
    "    mse = mean_squared_error(y_val, reg.predict(X_val))\n",
    "    print(\"The mean squared error (MSE) on test set: {:.4f}\".format(mse))\n",
    "\n",
    "    # convert array into dataframe\n",
    "    test_predict = reg.predict(df_test)\n",
    "    preds = pd.DataFrame(test_predict, columns=['inj_diff'])\n",
    "\n",
    "    # save the dataframe as a csv file\n",
    "    preds.to_csv(\"pred_with_time_stamp_features_xg_boost11.csv\", index = False)\n",
    "    \n",
    "    pickle.dump(reg, open(filename, 'wb'))\n",
    "else:\n",
    "    loaded_model = pickle.load(open(filename, 'rb'))\n",
    "    mse = mean_squared_error(y_val, loaded_model.predict(X_val))\n",
    "    # result = loaded_model.score(X_val, y_val)\n",
    "    print(mse)"
   ]
  }
 ],
 "metadata": {
  "kernelspec": {
   "display_name": "Python 3 (ipykernel)",
   "language": "python",
   "name": "python3"
  },
  "language_info": {
   "codemirror_mode": {
    "name": "ipython",
    "version": 3
   },
   "file_extension": ".py",
   "mimetype": "text/x-python",
   "name": "python",
   "nbconvert_exporter": "python",
   "pygments_lexer": "ipython3",
   "version": "3.10.9"
  }
 },
 "nbformat": 4,
 "nbformat_minor": 5
}

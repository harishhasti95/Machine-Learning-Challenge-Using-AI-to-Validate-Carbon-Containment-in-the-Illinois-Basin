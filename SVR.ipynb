{
 "cells": [
  {
   "cell_type": "code",
   "execution_count": 1,
   "id": "4190bf21",
   "metadata": {},
   "outputs": [],
   "source": [
    "import pandas as pd\n",
    "import numpy as np\n",
    "import matplotlib.pyplot as plt\n",
    "import seaborn as sns\n",
    "from sklearn import preprocessing\n",
    "from sklearn import datasets, ensemble\n",
    "from sklearn.inspection import permutation_importance\n",
    "from sklearn.metrics import mean_squared_error\n",
    "from sklearn.model_selection import train_test_split\n",
    "from sklearn.pipeline import make_pipeline\n",
    "from sklearn.preprocessing import StandardScaler\n",
    "from sklearn.svm import SVR\n",
    "from sklearn.model_selection import GridSearchCV\n",
    "\n",
    "df_train = pd.read_csv('illinois_basing_train.csv')\n",
    "df_train.drop('Avg_PLT_CO2InjRate_TPH', axis=1, inplace = True)\n",
    "\n",
    "df_train[df_train.columns[-1]].fillna(0, inplace = True)\n",
    "y = df_train[df_train.columns[-1]]\n",
    "df_train.drop(df_train.columns[-1], axis=1, inplace = True)\n",
    "\n",
    "df_train['Month'] = pd.to_datetime(df_train['SampleTimeUTC']).dt.month\n",
    "df_train['Day'] = pd.to_datetime(df_train['SampleTimeUTC']).dt.day\n",
    "df_train['Hour'] = pd.to_datetime(df_train['SampleTimeUTC']).dt.hour\n",
    "df_train['Year'] = pd.DatetimeIndex(df_train['SampleTimeUTC']).year\n",
    "df_train.drop('SampleTimeUTC', axis=1, inplace = True)\n",
    "\n",
    "\n",
    "cols = [i for i in df_train.columns if df_train[i].isnull().any()]\n",
    "for i in cols:\n",
    "    df_train[i].fillna(df_train[i].mean(), inplace=True)\n",
    "    \n",
    "\n",
    "    \n",
    "# scaler = StandardScaler()\n",
    "# # transform data\n",
    "# df_train = scaler.fit_transform(df_train)\n"
   ]
  },
  {
   "cell_type": "code",
   "execution_count": 2,
   "id": "d32448c0",
   "metadata": {},
   "outputs": [
    {
     "name": "stdout",
     "output_type": "stream",
     "text": [
      "Fitting 3 folds for each of 16 candidates, totalling 48 fits\n",
      "[CV 1/3] END .......C=0.1, gamma=1, kernel=rbf;, score=-0.000 total time=  15.2s\n",
      "[CV 2/3] END .......C=0.1, gamma=1, kernel=rbf;, score=-0.000 total time=  15.1s\n",
      "[CV 3/3] END .......C=0.1, gamma=1, kernel=rbf;, score=-0.000 total time=  15.2s\n",
      "[CV 1/3] END .....C=0.1, gamma=0.1, kernel=rbf;, score=-0.000 total time=  15.2s\n",
      "[CV 2/3] END .....C=0.1, gamma=0.1, kernel=rbf;, score=-0.000 total time=  15.3s\n",
      "[CV 3/3] END .....C=0.1, gamma=0.1, kernel=rbf;, score=-0.000 total time=  16.6s\n",
      "[CV 1/3] END ....C=0.1, gamma=0.01, kernel=rbf;, score=-0.000 total time=  16.6s\n",
      "[CV 2/3] END ....C=0.1, gamma=0.01, kernel=rbf;, score=-0.000 total time=  16.9s\n",
      "[CV 3/3] END ....C=0.1, gamma=0.01, kernel=rbf;, score=-0.000 total time=  17.5s\n",
      "[CV 1/3] END ...C=0.1, gamma=0.001, kernel=rbf;, score=-0.000 total time=  18.3s\n",
      "[CV 2/3] END ...C=0.1, gamma=0.001, kernel=rbf;, score=-0.000 total time=  17.0s\n",
      "[CV 3/3] END ...C=0.1, gamma=0.001, kernel=rbf;, score=-0.000 total time=  16.5s\n",
      "[CV 1/3] END .........C=1, gamma=1, kernel=rbf;, score=-0.000 total time=  34.4s\n",
      "[CV 2/3] END .........C=1, gamma=1, kernel=rbf;, score=-0.000 total time=  35.9s\n",
      "[CV 3/3] END .........C=1, gamma=1, kernel=rbf;, score=-0.000 total time=  36.3s\n",
      "[CV 1/3] END .......C=1, gamma=0.1, kernel=rbf;, score=-0.000 total time=  37.2s\n",
      "[CV 2/3] END .......C=1, gamma=0.1, kernel=rbf;, score=-0.000 total time=  40.9s\n",
      "[CV 3/3] END .......C=1, gamma=0.1, kernel=rbf;, score=-0.000 total time=  36.9s\n",
      "[CV 1/3] END ......C=1, gamma=0.01, kernel=rbf;, score=-0.000 total time=  38.4s\n",
      "[CV 2/3] END ......C=1, gamma=0.01, kernel=rbf;, score=-0.000 total time=  39.8s\n",
      "[CV 3/3] END ......C=1, gamma=0.01, kernel=rbf;, score=-0.000 total time=  40.1s\n",
      "[CV 1/3] END .....C=1, gamma=0.001, kernel=rbf;, score=-0.000 total time=  30.2s\n",
      "[CV 2/3] END .....C=1, gamma=0.001, kernel=rbf;, score=-0.000 total time=  30.3s\n",
      "[CV 3/3] END .....C=1, gamma=0.001, kernel=rbf;, score=-0.000 total time=  34.1s\n",
      "[CV 1/3] END ........C=10, gamma=1, kernel=rbf;, score=-0.000 total time=  55.1s\n",
      "[CV 2/3] END ........C=10, gamma=1, kernel=rbf;, score=-0.000 total time=  53.4s\n",
      "[CV 3/3] END ........C=10, gamma=1, kernel=rbf;, score=-0.000 total time=  49.6s\n",
      "[CV 1/3] END ......C=10, gamma=0.1, kernel=rbf;, score=-0.000 total time=  56.3s\n",
      "[CV 2/3] END ......C=10, gamma=0.1, kernel=rbf;, score=-0.000 total time=  52.3s\n",
      "[CV 3/3] END ......C=10, gamma=0.1, kernel=rbf;, score=-0.000 total time=  49.7s\n",
      "[CV 1/3] END .....C=10, gamma=0.01, kernel=rbf;, score=-0.000 total time= 1.2min\n",
      "[CV 2/3] END .....C=10, gamma=0.01, kernel=rbf;, score=-0.000 total time= 1.3min\n",
      "[CV 3/3] END .....C=10, gamma=0.01, kernel=rbf;, score=-0.000 total time=  59.4s\n",
      "[CV 1/3] END .....C=10, gamma=0.001, kernel=rbf;, score=0.000 total time= 1.8min\n",
      "[CV 2/3] END .....C=10, gamma=0.001, kernel=rbf;, score=0.000 total time= 1.7min\n",
      "[CV 3/3] END ....C=10, gamma=0.001, kernel=rbf;, score=-0.000 total time= 1.8min\n",
      "[CV 1/3] END .......C=100, gamma=1, kernel=rbf;, score=-0.000 total time=  43.2s\n",
      "[CV 2/3] END .......C=100, gamma=1, kernel=rbf;, score=-0.000 total time=  41.4s\n",
      "[CV 3/3] END .......C=100, gamma=1, kernel=rbf;, score=-0.000 total time=  41.9s\n",
      "[CV 1/3] END .....C=100, gamma=0.1, kernel=rbf;, score=-0.000 total time=  43.8s\n",
      "[CV 2/3] END .....C=100, gamma=0.1, kernel=rbf;, score=-0.000 total time=  42.5s\n",
      "[CV 3/3] END .....C=100, gamma=0.1, kernel=rbf;, score=-0.000 total time=  44.2s\n",
      "[CV 1/3] END ....C=100, gamma=0.01, kernel=rbf;, score=-0.000 total time= 1.0min\n",
      "[CV 2/3] END ....C=100, gamma=0.01, kernel=rbf;, score=-0.000 total time= 1.0min\n",
      "[CV 3/3] END ....C=100, gamma=0.01, kernel=rbf;, score=-0.000 total time= 1.0min\n",
      "[CV 1/3] END ....C=100, gamma=0.001, kernel=rbf;, score=0.000 total time= 5.5min\n",
      "[CV 2/3] END ....C=100, gamma=0.001, kernel=rbf;, score=0.000 total time= 5.8min\n",
      "[CV 3/3] END ...C=100, gamma=0.001, kernel=rbf;, score=-0.000 total time= 5.5min\n"
     ]
    },
    {
     "data": {
      "text/plain": [
       "GridSearchCV(cv=3, estimator=SVR(),\n",
       "             param_grid={'C': [0.1, 1, 10, 100], 'gamma': [1, 0.1, 0.01, 0.001],\n",
       "                         'kernel': ['rbf']},\n",
       "             verbose=3)"
      ]
     },
     "execution_count": 2,
     "metadata": {},
     "output_type": "execute_result"
    }
   ],
   "source": [
    "X_train, X_val, y_train, y_val = train_test_split(\n",
    "    df_train, y, test_size=0.1, random_state=13\n",
    ")\n",
    "\n",
    "param_grid = {'C': [0.1, 1, 10, 100], \n",
    "              'gamma': [1, 0.1, 0.01, 0.001],\n",
    "              'kernel': ['rbf']} \n",
    "\n",
    "\n",
    "regr = SVR()\n",
    "\n",
    "  \n",
    "grid = GridSearchCV(regr, param_grid, cv = 3, refit = True, verbose = 3)\n",
    "  \n",
    "# fitting the model for grid search\n",
    "grid.fit(X_train, y_train)\n",
    "\n"
   ]
  },
  {
   "cell_type": "code",
   "execution_count": 3,
   "id": "c8196489",
   "metadata": {},
   "outputs": [
    {
     "name": "stdout",
     "output_type": "stream",
     "text": [
      "Best Score 0.000126847592766303\n",
      "Best Params {'C': 10, 'gamma': 0.001, 'kernel': 'rbf'}\n"
     ]
    }
   ],
   "source": [
    "print('Best Score', grid.best_score_)\n",
    "print('Best Params', grid.best_params_)"
   ]
  },
  {
   "cell_type": "code",
   "execution_count": 2,
   "id": "9b5c8402",
   "metadata": {},
   "outputs": [
    {
     "name": "stdout",
     "output_type": "stream",
     "text": [
      "The mean squared error (MSE) on test set: 13.8118\n"
     ]
    }
   ],
   "source": [
    "# convert array into dataframe\n",
    "X_train, X_val, y_train, y_val = train_test_split(\n",
    "    df_train, y, test_size=0.1, random_state=13\n",
    ")\n",
    "\n",
    "# best_model = SVR(C = grid.best_params_['C'], gamma = grid.best_params_['gamma'], kernel = grid.best_params_['kernel'])\n",
    "best_model = SVR(C = 10, gamma = 0.001, kernel = 'rbf')\n",
    "best_model.fit(X_train, y_train)\n",
    "mse = mean_squared_error(y_val, best_model.predict(X_val))\n",
    "print(\"The mean squared error (MSE) on test set: {:.4f}\".format(mse))\n"
   ]
  },
  {
   "cell_type": "code",
   "execution_count": 3,
   "id": "9b865391",
   "metadata": {},
   "outputs": [],
   "source": [
    "df_test = pd.read_csv('illinois_basing_test.csv')\n",
    "df_test['Month'] = pd.to_datetime(df_test['SampleTimeUTC']).dt.month\n",
    "df_test['Day'] = pd.to_datetime(df_test['SampleTimeUTC']).dt.day\n",
    "df_test['Hour'] = pd.to_datetime(df_test['SampleTimeUTC']).dt.hour\n",
    "df_test['Year'] = pd.DatetimeIndex(df_test['SampleTimeUTC']).year\n",
    "df_test.drop('SampleTimeUTC', axis=1, inplace = True)\n",
    "cols = [i for i in df_test.columns if df_test[i].isnull().any()]\n",
    "for i in cols:\n",
    "    df_test[i].fillna(df_test[i].mean(), inplace=True)\n",
    "    "
   ]
  },
  {
   "cell_type": "code",
   "execution_count": 4,
   "id": "a0f70d5b",
   "metadata": {},
   "outputs": [
    {
     "name": "stdout",
     "output_type": "stream",
     "text": [
      "Index(['Avg_PLT_CO2VentRate_TPH', 'Avg_CCS1_WHCO2InjPs_psi',\n",
      "       'Avg_CCS1_WHCO2InjTp_F', 'Avg_CCS1_ANPs_psi', 'Avg_CCS1_DH6325Ps_psi',\n",
      "       'Avg_CCS1_DH6325Tp_F', 'Avg_VW1_WBTbgPs_psi', 'Avg_VW1_WBTbgTp_F',\n",
      "       'Avg_VW1_ANPs_psi', 'Avg_VW1_Z11D4917Ps_psi', 'Avg_VW1_Z11D4917Tp_F',\n",
      "       'Avg_VW1_Z10D5001Ps_psi', 'Avg_VW1_Z10D5001Tp_F',\n",
      "       'Avg_VW1_Z09D5653Ps_psi', 'Avg_VW1_Z09D5653Tp_F',\n",
      "       'Avg_VW1_Z08D5840Ps_psi', 'Avg_VW1_Z08D5840Tp_F',\n",
      "       'Avg_VW1_Z07D6416Ps_psi', 'Avg_VW1_Z07D6416Tp_F',\n",
      "       'Avg_VW1_Z06D6632Ps_psi', 'Avg_VW1_Z06D6632Tp_F',\n",
      "       'Avg_VW1_Z05D6720Ps_psi', 'Avg_VW1_Z05D6720Tp_F',\n",
      "       'Avg_VW1_Z04D6837Ps_psi', 'Avg_VW1_Z04D6837Tp_F',\n",
      "       'Avg_VW1_Z03D6945Ps_psi', 'Avg_VW1_Z03D6945Tp_F',\n",
      "       'Avg_VW1_Z02D6982Ps_psi', 'Avg_VW1_Z02D6982Tp_F',\n",
      "       'Avg_VW1_Z01D7061Ps_psi', 'Avg_VW1_Z01D7061Tp_F',\n",
      "       'Avg_VW1_Z0910D5482Ps_psi', 'Avg_VW1_Z0910D5482Tp_F', 'Month', 'Day',\n",
      "       'Hour', 'Year'],\n",
      "      dtype='object')\n"
     ]
    }
   ],
   "source": [
    "print(df_train.columns)"
   ]
  },
  {
   "cell_type": "code",
   "execution_count": 5,
   "id": "d1d60cd0",
   "metadata": {},
   "outputs": [
    {
     "name": "stderr",
     "output_type": "stream",
     "text": [
      "C:\\Users\\haris\\anaconda3\\envs\\py37gpu\\lib\\site-packages\\sklearn\\base.py:451: UserWarning: X does not have valid feature names, but SVR was fitted with feature names\n",
      "  \"X does not have valid feature names, but\"\n"
     ]
    }
   ],
   "source": [
    "\n",
    "    \n",
    "test_predict = best_model.predict(df_test.values)\n",
    "preds = pd.DataFrame(test_predict, columns=['inj_diff'])\n",
    "preds.to_csv(\"preds_svr.csv\", index = False)"
   ]
  },
  {
   "cell_type": "code",
   "execution_count": null,
   "id": "6d0f6236",
   "metadata": {},
   "outputs": [],
   "source": []
  }
 ],
 "metadata": {
  "kernelspec": {
   "display_name": "Python 3 (ipykernel)",
   "language": "python",
   "name": "python3"
  },
  "language_info": {
   "codemirror_mode": {
    "name": "ipython",
    "version": 3
   },
   "file_extension": ".py",
   "mimetype": "text/x-python",
   "name": "python",
   "nbconvert_exporter": "python",
   "pygments_lexer": "ipython3",
   "version": "3.7.13"
  }
 },
 "nbformat": 4,
 "nbformat_minor": 5
}

{
 "cells": [
  {
   "cell_type": "code",
   "execution_count": 1,
   "id": "62e497bf",
   "metadata": {},
   "outputs": [],
   "source": [
    "import pandas as pd\n",
    "import numpy as np\n",
    "import matplotlib.pyplot as plt\n",
    "import seaborn as sns\n",
    "from sklearn import preprocessing\n",
    "from sklearn import datasets, ensemble\n",
    "from sklearn.inspection import permutation_importance\n",
    "from sklearn.metrics import mean_squared_error\n",
    "from sklearn.model_selection import train_test_split\n",
    "\n",
    "import warnings\n",
    "warnings.filterwarnings(\"ignore\")"
   ]
  },
  {
   "cell_type": "code",
   "execution_count": 2,
   "id": "39d1f98c",
   "metadata": {},
   "outputs": [],
   "source": [
    "df_train = pd.read_csv('illinois_basing_train.csv')\n",
    "df_train.drop('Avg_PLT_CO2InjRate_TPH', axis=1, inplace = True)\n",
    "df_test = pd.read_csv('illinois_basing_test.csv')\n",
    "\n",
    "df_train[df_train.columns[-1]].fillna(0, inplace = True)\n",
    "y = df_train[df_train.columns[-1]]\n",
    "df_train.drop(df_train.columns[-1], axis=1, inplace = True)\n",
    "\n",
    "\n",
    "for i in df_train.columns[1:]:\n",
    "    new_col = 'sin' + i\n",
    "    df_train[new_col] = np.sin(df_train[i].astype(np.float64))\n",
    "    df_test[new_col] = np.sin(df_test[i].astype(np.float64))\n",
    "    \n",
    "    new_col = 'cos' + i\n",
    "    df_train[new_col] = np.cos(df_train[i].astype(np.float64))\n",
    "    df_test[new_col] = np.cos(df_test[i].astype(np.float64))\n",
    "    \n",
    "    new_col = 'tan' + i\n",
    "    df_train[new_col] = np.tan(df_train[i].astype(np.float64))\n",
    "    df_test[new_col] = np.tan(df_test[i].astype(np.float64))\n",
    "\n",
    "\n",
    "df_train['Month'] = pd.to_datetime(df_train['SampleTimeUTC']).dt.month\n",
    "df_train['Day'] = pd.to_datetime(df_train['SampleTimeUTC']).dt.day\n",
    "df_train['Hour'] = pd.to_datetime(df_train['SampleTimeUTC']).dt.hour\n",
    "df_train['Year'] = pd.DatetimeIndex(df_train['SampleTimeUTC']).year\n",
    "df_train.drop('SampleTimeUTC', axis=1, inplace = True)\n",
    "\n",
    "\n",
    "df_test['Month'] = pd.to_datetime(df_test['SampleTimeUTC']).dt.month\n",
    "df_test['Day'] = pd.to_datetime(df_test['SampleTimeUTC']).dt.day\n",
    "df_test['Hour'] = pd.to_datetime(df_test['SampleTimeUTC']).dt.hour\n",
    "df_test['Year'] = pd.DatetimeIndex(df_test['SampleTimeUTC']).year\n",
    "df_test.drop('SampleTimeUTC', axis=1, inplace = True)\n",
    "\n",
    "cols = [i for i in df_train.columns if df_train[i].isnull().any()]\n",
    "for i in cols:\n",
    "    df_train[i].fillna(df_train[i].mean(), inplace=True)\n",
    "\n",
    "cols = [i for i in df_test.columns if df_test[i].isnull().any()]\n",
    "for i in cols:\n",
    "    df_test[i].fillna(df_test[i].mean(), inplace=True)"
   ]
  },
  {
   "cell_type": "code",
   "execution_count": 3,
   "id": "d463cbec",
   "metadata": {},
   "outputs": [],
   "source": [
    "df_train = df_train.reset_index()\n",
    "df_test = df_test.reset_index()\n",
    "\n",
    "df_train.replace([np.inf, -np.inf], np.nan, inplace=True)\n",
    "df_test.replace([np.inf, -np.inf], np.nan, inplace=True)"
   ]
  },
  {
   "cell_type": "code",
   "execution_count": 4,
   "id": "9561c94d",
   "metadata": {},
   "outputs": [],
   "source": [
    "X_train, X_val, y_train, y_val = train_test_split(\n",
    "    df_train, y, test_size=0.1, random_state=42\n",
    ")"
   ]
  },
  {
   "cell_type": "code",
   "execution_count": 5,
   "id": "7d8a9996",
   "metadata": {},
   "outputs": [
    {
     "name": "stdout",
     "output_type": "stream",
     "text": [
      "The mean squared error (MSE) on test set: 12.6732\n"
     ]
    }
   ],
   "source": [
    "params = {\n",
    "    \"n_estimators\": 505,\n",
    "    \"max_depth\": 6,\n",
    "    \"min_samples_split\": 4,\n",
    "    \"learning_rate\": 0.07,\n",
    "    \"loss\": \"squared_error\",\n",
    "}\n",
    "reg = ensemble.GradientBoostingRegressor(**params)\n",
    "reg.fit(X_train, y_train)\n",
    "mse = mean_squared_error(y_val, reg.predict(X_val))\n",
    "print(\"The mean squared error (MSE) on test set: {:.4f}\".format(mse))\n",
    "\n",
    "# convert array into dataframe\n",
    "test_predict = reg.predict(df_test)\n",
    "preds = pd.DataFrame(test_predict, columns=['inj_diff'])\n",
    "\n",
    "# save the dataframe as a csv file\n",
    "preds.to_csv(\"pred_with_sine_features_xg_boost1.csv\", index = False)"
   ]
  },
  {
   "cell_type": "code",
   "execution_count": 6,
   "id": "91500cf3",
   "metadata": {},
   "outputs": [
    {
     "name": "stdout",
     "output_type": "stream",
     "text": [
      "Fitting 5 folds for each of 20 candidates, totalling 100 fits\n",
      "Best Score -2095.4634173947256\n",
      "Best Params {'learning_rate': 0.0721, 'max_depth': 5, 'n_estimators': 507, 'nthread': 4, 'objective': 'reg:squarederror'}\n"
     ]
    }
   ],
   "source": [
    "\n",
    "# Various hyper-parameters to tune\n",
    "import xgboost as xgb\n",
    "from xgboost.sklearn import XGBRegressor\n",
    "from sklearn.model_selection import GridSearchCV\n",
    "\n",
    "xgb1 = XGBRegressor(tree_method=\"gpu_hist\")\n",
    "parameters = {'nthread':[4], #when use hyperthread, xgboost may become slower\n",
    "              'objective':['reg:squarederror'],\n",
    "              'learning_rate': [0.072, 0.0721, 0.0719, 0.0718], #so called `eta` value\n",
    "              'max_depth': [5],\n",
    "              'n_estimators': [507, 508, 509, 506, 505]}\n",
    "\n",
    "xgb_grid = GridSearchCV(xgb1,\n",
    "                        parameters,\n",
    "                        n_jobs = -1,\n",
    "                        verbose=4)\n",
    "\n",
    "xgb_grid.fit(df_train, y)\n",
    "\n",
    "print('Best Score', xgb_grid.best_score_)\n",
    "print('Best Params', xgb_grid.best_params_)\n",
    "\n",
    "\n",
    "params = xgb_grid.best_params_\n",
    "\n",
    "best_model = XGBRegressor(**params)\n",
    "best_model.fit(df_train, y)\n",
    "\n",
    "\n",
    "\n",
    "# convert array into dataframe\n",
    "test_predict = best_model.predict(df_test)\n",
    "preds = pd.DataFrame(test_predict, columns=['inj_diff'])\n",
    "\n",
    "# save the dataframe as a csv file\n",
    "preds.to_csv(\"pred_with_sine_features_xg_boost_grid.csv\", index = False)\n"
   ]
  },
  {
   "cell_type": "code",
   "execution_count": 7,
   "id": "737b6430",
   "metadata": {},
   "outputs": [
    {
     "name": "stdout",
     "output_type": "stream",
     "text": [
      "The mean squared error (MSE) on test set: 12.5490\n"
     ]
    }
   ],
   "source": [
    "params = {\n",
    "    \"n_estimators\": 507,\n",
    "    \"max_depth\": 5,\n",
    "    \"min_samples_split\": 4,\n",
    "    \"learning_rate\": 0.0721,\n",
    "    \"loss\": \"squared_error\",\n",
    "}\n",
    "reg = ensemble.GradientBoostingRegressor(**params)\n",
    "reg.fit(X_train, y_train)\n",
    "mse = mean_squared_error(y_val, reg.predict(X_val))\n",
    "print(\"The mean squared error (MSE) on test set: {:.4f}\".format(mse))\n",
    "\n",
    "# convert array into dataframe\n",
    "test_predict = reg.predict(df_test)\n",
    "preds = pd.DataFrame(test_predict, columns=['inj_diff'])\n",
    "\n",
    "# save the dataframe as a csv file\n",
    "preds.to_csv(\"pred_with_sine_features_xg_boost2.csv\", index = False)"
   ]
  },
  {
   "cell_type": "code",
   "execution_count": null,
   "id": "2ceb6d01",
   "metadata": {},
   "outputs": [],
   "source": []
  }
 ],
 "metadata": {
  "kernelspec": {
   "display_name": "Python 3 (ipykernel)",
   "language": "python",
   "name": "python3"
  },
  "language_info": {
   "codemirror_mode": {
    "name": "ipython",
    "version": 3
   },
   "file_extension": ".py",
   "mimetype": "text/x-python",
   "name": "python",
   "nbconvert_exporter": "python",
   "pygments_lexer": "ipython3",
   "version": "3.10.9"
  }
 },
 "nbformat": 4,
 "nbformat_minor": 5
}
